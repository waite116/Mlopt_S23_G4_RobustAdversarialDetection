{
 "cells": [
  {
   "cell_type": "code",
   "execution_count": 1,
   "id": "b057bcb9",
   "metadata": {},
   "outputs": [
    {
     "name": "stdout",
     "output_type": "stream",
     "text": [
      "(CVXPY) Apr 24 10:27:52 AM: Encountered unexpected exception importing solver OSQP:\n",
      "ImportError('DLL load failed while importing qdldl: The specified module could not be found.')\n"
     ]
    }
   ],
   "source": [
    "from Utilities import *"
   ]
  },
  {
   "cell_type": "markdown",
   "id": "401cc2b5",
   "metadata": {},
   "source": [
    "## Load network and dictionaries\n",
    "Note: There is a warning for a deprecated function. This does not impact functionality."
   ]
  },
  {
   "cell_type": "code",
   "execution_count": 2,
   "id": "6ca490eb",
   "metadata": {},
   "outputs": [
    {
     "name": "stdout",
     "output_type": "stream",
     "text": [
      "Running Test to Confirm load successful: \n"
     ]
    },
    {
     "name": "stderr",
     "output_type": "stream",
     "text": [
      "C:\\Users\\waite\\anaconda3\\lib\\site-packages\\torch\\nn\\_reduction.py:42: UserWarning: size_average and reduce args will be deprecated, please use reduction='sum' instead.\n",
      "  warnings.warn(warning.format(ret))\n"
     ]
    },
    {
     "name": "stdout",
     "output_type": "stream",
     "text": [
      "Test set: Avg. loss: -426881.8677, Accuracy: 9882/10000 (98.82%)\n"
     ]
    }
   ],
   "source": [
    "device = torch.device('cuda' if torch.cuda.is_available() else 'cpu')\n",
    "#device = torch.device('cpu')\n",
    "network = load_network(device)\n",
    "D_s, D_a = load_dicts()"
   ]
  },
  {
   "cell_type": "markdown",
   "id": "9a93f154",
   "metadata": {},
   "source": [
    "## Detect and Identify Algorithm:\n",
    "This runs the detect and identify algorithm where subset_size is the size of $\\mathcal{X}_A$. subset_sum must be a multiple of 10 so it can be split equally among classes. num_attacks is the number of attacked images to be split across attack types and classes. Thus, it must be a multiple of 30. \n",
    "\n",
    "### Notes\n",
    "* There will be a warning from the solver, this is expected, and does not impact performance. \n",
    "* This takes ~2 hours to run with subset_size of 1000.\n",
    "* The subsets and attack images are randomly selected, so results may vary from run to run."
   ]
  },
  {
   "cell_type": "code",
   "execution_count": 5,
   "id": "d9513160",
   "metadata": {},
   "outputs": [
    {
     "name": "stdout",
     "output_type": "stream",
     "text": [
      "Adversaries Generated, starting Detection and Identification... \n",
      "Test Image # 10  / 100 :            \n",
      "3 Attacks seen, 1 Attacks Correctly Identified, 0 False Positives\n",
      "Test Image # 20  / 100 :            \n",
      "6 Attacks seen, 3 Attacks Correctly Identified, 1 False Positives\n",
      "Test Image # 30  / 100 :            \n",
      "9 Attacks seen, 5 Attacks Correctly Identified, 4 False Positives\n",
      "Test Image # 40  / 100 :            \n",
      "13 Attacks seen, 7 Attacks Correctly Identified, 5 False Positives\n",
      "Test Image # 50  / 100 :            \n",
      "15 Attacks seen, 8 Attacks Correctly Identified, 6 False Positives\n",
      "Test Image # 60  / 100 :            \n",
      "18 Attacks seen, 8 Attacks Correctly Identified, 8 False Positives\n",
      "Test Image # 70  / 100 :            \n",
      "21 Attacks seen, 8 Attacks Correctly Identified, 9 False Positives\n",
      "Test Image # 80  / 100 :            \n",
      "24 Attacks seen, 10 Attacks Correctly Identified, 9 False Positives\n",
      "Test Image # 90  / 100 :            \n",
      "28 Attacks seen, 11 Attacks Correctly Identified, 13 False Positives\n",
      "Test Image # 99  / 100 :            \n",
      "30 Attacks seen, 12 Attacks Correctly Identified, 15 False Positives\n",
      "PRINTING RESULTS!!! \n",
      "\n",
      "\n",
      "\n",
      "There were 30 total attacks. \n",
      "\n",
      "Overall 40.0 Percent of Attacks were detected\n",
      "We detected 10.0 Percent of L1 Attacks\n",
      "We detected 40.0 Percent of L2 Attacks\n",
      "We detected 70.0 Percent of Linf Attacks\n",
      "\n",
      "There were 12 True Positives, 15 False positives,    and 18 False Negatives.\n",
      "\n",
      "Overall, of the correctly detected attacks we Classified     25.0 Percent of attacks correctly\n",
      "\n",
      "Percent L1 Correctly Identified = 0.0, \n",
      "    Percent L2 Correctly Identified = 25.0,      \n",
      "Percent Linf Correctly Identified = 28.571428571428573\n"
     ]
    }
   ],
   "source": [
    "detect_and_identify_mixed_PGD(network, device, D_s, D_a, subset_size=100, num_attacks=30, eps_l1 = 10., eps_l2 =2., eps_linf = .3)"
   ]
  },
  {
   "cell_type": "markdown",
   "id": "032b7281",
   "metadata": {},
   "source": [
    "## Robust Detection Algorithm with Mixed Attacks\n",
    "This runs the robust detection algorithm where subset_size is the size of $\\mathcal{X}_A$. subset_sum must be a multiple of 10 so it can be split equally among classes. num_attacks is the number of attacked images to be split across attack types and classes. Thus, it must be a multiple of 30. \n",
    "\n",
    "### Notes\n",
    "* There will be a warning from the solver, this is expected, and does not impact performance. \n",
    "* This takes ~2 hours to run with subset_size of 1000.\n",
    "* The subsets and attack images are randomly selected, so results may vary from run to run."
   ]
  },
  {
   "cell_type": "code",
   "execution_count": 3,
   "id": "14cb0542",
   "metadata": {},
   "outputs": [
    {
     "name": "stdout",
     "output_type": "stream",
     "text": [
      "Adversaries Generated, starting Detection and Identification... \n"
     ]
    },
    {
     "name": "stderr",
     "output_type": "stream",
     "text": [
      "C:\\Users\\waite\\anaconda3\\lib\\site-packages\\cvxpy\\problems\\problem.py:1385: UserWarning: Solution may be inaccurate. Try another solver, adjusting the solver settings, or solve with verbose=True for more information.\n",
      "  warnings.warn(\n"
     ]
    },
    {
     "name": "stdout",
     "output_type": "stream",
     "text": [
      "Sample 10 :  3 Attacks seen, 0 Attacks Correctly Identified, 0 False Positives\n",
      "Sample 20 :  7 Attacks seen, 2 Attacks Correctly Identified, 0 False Positives\n",
      "Sample 30 :  9 Attacks seen, 3 Attacks Correctly Identified, 1 False Positives\n",
      "Sample 40 :  12 Attacks seen, 4 Attacks Correctly Identified, 1 False Positives\n",
      "Sample 50 :  15 Attacks seen, 4 Attacks Correctly Identified, 1 False Positives\n",
      "Sample 60 :  18 Attacks seen, 5 Attacks Correctly Identified, 2 False Positives\n",
      "Sample 70 :  21 Attacks seen, 6 Attacks Correctly Identified, 2 False Positives\n",
      "Sample 80 :  25 Attacks seen, 8 Attacks Correctly Identified, 2 False Positives\n",
      "Sample 90 :  28 Attacks seen, 9 Attacks Correctly Identified, 4 False Positives\n",
      "Sample 99 :  30 Attacks seen, 9 Attacks Correctly Identified, 4 False Positives\n",
      "Accuracy on True Positives: 11.11\n",
      "Accuracy on False Negatives: 76.19\n",
      "Accuracy on X_A -A: 94.25\n",
      "Accuracy raw: 87.00\n"
     ]
    }
   ],
   "source": [
    "detect_robust_mixed_PGD(network, device, D_s, D_a, subset_size=100, num_attacks=30, eps_l1 = 10., eps_l2 =2., eps_linf = .3)"
   ]
  },
  {
   "cell_type": "markdown",
   "id": "1b00a982",
   "metadata": {},
   "source": [
    "## Robust Detection Algorithm with Single Attack\n",
    "This runs the robust detection algorithm where subset_size is the size of $\\mathcal{X}_A$. subset_sum must be a multiple of 10 so it can be split equally among classes. num_attacks is the number of attacked images to be split across attack types and classes. Thus, it must be a multiple of 10. \n",
    "\n",
    "### Attack Options:\n",
    "* attack_name = \"CW\": Carlini Wagner\n",
    "* attack_name=\"ST\"  : Spatial Transfrom\n",
    "* attack_name=\"MIM\" : Momentum Interative\n",
    "* attack_name=\"DDN\" : Decoupled Direction Norm\n",
    "* attack_name=\"L1\"  : L1 PGD\n",
    "* attack_name=\"L2\"  : L2 PGD\n",
    "* attack_name=\"Linf\": Linf PGD\n",
    "\n",
    "### Notes\n",
    "* There will be a warning from the solver, this is expected, and does not impact performance. \n",
    "* This takes ~2 hours to run with subset_size of 1000.\n",
    "* The subsets and attack images are randomly selected, so results may vary from run to run."
   ]
  },
  {
   "cell_type": "code",
   "execution_count": null,
   "id": "fdfb3f4e",
   "metadata": {},
   "outputs": [
    {
     "name": "stderr",
     "output_type": "stream",
     "text": [
      "C:\\Users\\waite\\anaconda3\\lib\\site-packages\\cvxpy\\problems\\problem.py:1385: UserWarning: Solution may be inaccurate. Try another solver, adjusting the solver settings, or solve with verbose=True for more information.\n",
      "  warnings.warn(\n"
     ]
    },
    {
     "name": "stdout",
     "output_type": "stream",
     "text": [
      "Sample 10 :  3 Attacks seen, 3 Attacks Correctly Identified, 1 False Positives\n",
      "Sample 20 :  7 Attacks seen, 6 Attacks Correctly Identified, 2 False Positives\n",
      "Sample 30 :  9 Attacks seen, 8 Attacks Correctly Identified, 4 False Positives\n",
      "Sample 40 :  12 Attacks seen, 10 Attacks Correctly Identified, 6 False Positives\n",
      "Sample 50 :  15 Attacks seen, 13 Attacks Correctly Identified, 6 False Positives\n"
     ]
    }
   ],
   "source": [
    "detect_robust_single(network, device, D_s, D_a, attack_name = \"CW\", subset_size=100, num_attacks=30, eps_l1 = 10., eps_l2 =2., eps_linf = .3)"
   ]
  },
  {
   "cell_type": "code",
   "execution_count": null,
   "id": "635f02d5",
   "metadata": {},
   "outputs": [],
   "source": []
  }
 ],
 "metadata": {
  "kernelspec": {
   "display_name": "Python 3 (ipykernel)",
   "language": "python",
   "name": "python3"
  },
  "language_info": {
   "codemirror_mode": {
    "name": "ipython",
    "version": 3
   },
   "file_extension": ".py",
   "mimetype": "text/x-python",
   "name": "python",
   "nbconvert_exporter": "python",
   "pygments_lexer": "ipython3",
   "version": "3.10.9"
  }
 },
 "nbformat": 4,
 "nbformat_minor": 5
}
